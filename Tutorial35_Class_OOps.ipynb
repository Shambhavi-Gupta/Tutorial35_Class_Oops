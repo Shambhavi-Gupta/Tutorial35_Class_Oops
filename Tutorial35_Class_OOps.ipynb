{
  "nbformat": 4,
  "nbformat_minor": 0,
  "metadata": {
    "colab": {
      "name": "Tutorial35_Class_OOps.ipynb",
      "provenance": [],
      "authorship_tag": "ABX9TyMAWvoHF5mfC/XiU6jKKYIk",
      "include_colab_link": true
    },
    "kernelspec": {
      "name": "python3",
      "display_name": "Python 3"
    }
  },
  "cells": [
    {
      "cell_type": "markdown",
      "metadata": {
        "id": "view-in-github",
        "colab_type": "text"
      },
      "source": [
        "<a href=\"https://colab.research.google.com/github/Shambhavi-Gupta/Tutorial35_Class_Oops/blob/main/Tutorial35_Class_OOps.ipynb\" target=\"_parent\"><img src=\"https://colab.research.google.com/assets/colab-badge.svg\" alt=\"Open In Colab\"/></a>"
      ]
    },
    {
      "cell_type": "code",
      "metadata": {
        "id": "YOqWwGMxCyB0"
      },
      "source": [
        "class Student:\r\n",
        "    pass\r\n",
        "\r\n",
        "one = Student()\r\n",
        "two = Student()\r\n",
        "\r\n",
        "one.name = \"Riya\"\r\n",
        "one.standard = \"10\"\r\n",
        "one.section = \"A\"\r\n",
        "two.section = \"B\"\r\n",
        "two.subjects = [\"Computer\",\"Maths\"]\r\n",
        "print(one.section, two.subjects)"
      ],
      "execution_count": null,
      "outputs": []
    }
  ]
}